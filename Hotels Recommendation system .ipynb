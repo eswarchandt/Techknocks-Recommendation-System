{
 "cells": [
  {
   "cell_type": "code",
   "execution_count": 1,
   "metadata": {},
   "outputs": [],
   "source": [
    "import pandas as pd\n",
    "import numpy as np\n",
    "from nltk.corpus import stopwords\n",
    "from sklearn.metrics.pairwise import linear_kernel\n",
    "from sklearn.feature_extraction.text import CountVectorizer\n",
    "from sklearn.feature_extraction.text import TfidfVectorizer\n",
    "from sklearn.decomposition import LatentDirichletAllocation\n",
    "from ast import literal_eval\n",
    "import re\n",
    "import random\n",
    "import matplotlib.pyplot as plt"
   ]
  },
  {
   "cell_type": "code",
   "execution_count": 2,
   "metadata": {},
   "outputs": [],
   "source": [
    "trip = pd.read_csv(r\"C:\\Users\\Eswar\\Desktop\\Techknocks\\cleartrip.csv\")"
   ]
  },
  {
   "cell_type": "code",
   "execution_count": 3,
   "metadata": {},
   "outputs": [
    {
     "data": {
      "text/plain": [
       "Index(['address', 'area', 'city', 'cleartrip_seller_rating', 'country',\n",
       "       'crawl_date', 'hotel_description', 'hotel_facilities',\n",
       "       'hotel_star_rating', 'image_count', 'image_urls', 'landmark',\n",
       "       'latitude', 'locality', 'longitude', 'pageurl', 'property_id',\n",
       "       'property_name', 'property_type', 'province', 'qts', 'room_area',\n",
       "       'room_count', 'room_facilities', 'room_type', 'similar_hotel',\n",
       "       'sitename', 'state', 'tad_review_count', 'tad_review_rating',\n",
       "       'tad_stay_review_rating', 'tripadvisor_seller_rating', 'uniq_id'],\n",
       "      dtype='object')"
      ]
     },
     "execution_count": 3,
     "metadata": {},
     "output_type": "execute_result"
    }
   ],
   "source": [
    "trip.columns"
   ]
  },
  {
   "cell_type": "code",
   "execution_count": 4,
   "metadata": {},
   "outputs": [
    {
     "data": {
      "text/plain": [
       "3.7506979341150197"
      ]
     },
     "execution_count": 4,
     "metadata": {},
     "output_type": "execute_result"
    }
   ],
   "source": [
    "C= trip['tad_review_rating'].mean()\n",
    "C"
   ]
  },
  {
   "cell_type": "code",
   "execution_count": 5,
   "metadata": {},
   "outputs": [
    {
     "data": {
      "text/plain": [
       "247.9000000000001"
      ]
     },
     "execution_count": 5,
     "metadata": {},
     "output_type": "execute_result"
    }
   ],
   "source": [
    "m= trip['tad_review_count'].quantile(0.9)\n",
    "m"
   ]
  },
  {
   "cell_type": "code",
   "execution_count": 6,
   "metadata": {},
   "outputs": [
    {
     "data": {
      "text/plain": [
       "(359, 33)"
      ]
     },
     "execution_count": 6,
     "metadata": {},
     "output_type": "execute_result"
    }
   ],
   "source": [
    "q_hotels = trip.copy().loc[trip['tad_review_count'] >= m]\n",
    "q_hotels.shape"
   ]
  },
  {
   "cell_type": "code",
   "execution_count": 7,
   "metadata": {},
   "outputs": [],
   "source": [
    "def weighted_rating(trip, m=m, C=C):\n",
    "    v = trip['tad_review_count']\n",
    "    R = trip['tad_review_rating']\n",
    "    # Calculation based on the IMDB formula\n",
    "    return (v/(v+m) * R) + (m/(m+v) * C)"
   ]
  },
  {
   "cell_type": "code",
   "execution_count": 8,
   "metadata": {},
   "outputs": [],
   "source": [
    "q_hotels['score'] = q_hotels.apply(weighted_rating, axis=1)"
   ]
  },
  {
   "cell_type": "code",
   "execution_count": 9,
   "metadata": {},
   "outputs": [
    {
     "data": {
      "text/html": [
       "<div>\n",
       "<style scoped>\n",
       "    .dataframe tbody tr th:only-of-type {\n",
       "        vertical-align: middle;\n",
       "    }\n",
       "\n",
       "    .dataframe tbody tr th {\n",
       "        vertical-align: top;\n",
       "    }\n",
       "\n",
       "    .dataframe thead th {\n",
       "        text-align: right;\n",
       "    }\n",
       "</style>\n",
       "<table border=\"1\" class=\"dataframe\">\n",
       "  <thead>\n",
       "    <tr style=\"text-align: right;\">\n",
       "      <th></th>\n",
       "      <th>address</th>\n",
       "      <th>area</th>\n",
       "      <th>city</th>\n",
       "      <th>cleartrip_seller_rating</th>\n",
       "      <th>country</th>\n",
       "      <th>crawl_date</th>\n",
       "      <th>hotel_description</th>\n",
       "      <th>hotel_facilities</th>\n",
       "      <th>hotel_star_rating</th>\n",
       "      <th>image_count</th>\n",
       "      <th>...</th>\n",
       "      <th>room_type</th>\n",
       "      <th>similar_hotel</th>\n",
       "      <th>sitename</th>\n",
       "      <th>state</th>\n",
       "      <th>tad_review_count</th>\n",
       "      <th>tad_review_rating</th>\n",
       "      <th>tad_stay_review_rating</th>\n",
       "      <th>tripadvisor_seller_rating</th>\n",
       "      <th>uniq_id</th>\n",
       "      <th>score</th>\n",
       "    </tr>\n",
       "  </thead>\n",
       "  <tbody>\n",
       "    <tr>\n",
       "      <td>4911</td>\n",
       "      <td>Rambagh Circle, Opp Central Park, Bhawani Sing...</td>\n",
       "      <td>SMS Stadium-Rambagh Circle</td>\n",
       "      <td>Jaipur</td>\n",
       "      <td>NaN</td>\n",
       "      <td>INDIA</td>\n",
       "      <td>2016-09-01</td>\n",
       "      <td>Armagh Palace Hotel, Jaipur lures business tra...</td>\n",
       "      <td>Basic Room Amenities:Air Conditioning|Wake-Up ...</td>\n",
       "      <td>5 Star hotel</td>\n",
       "      <td>27</td>\n",
       "      <td>...</td>\n",
       "      <td>Palace Rooms</td>\n",
       "      <td>159767|1324676|375354|332915|40611</td>\n",
       "      <td>https://www.cleartrip.com</td>\n",
       "      <td>Rajasthan</td>\n",
       "      <td>1368.0</td>\n",
       "      <td>5.0</td>\n",
       "      <td>Location::4.5|Rooms::5.0|Service::5.0|Value::4...</td>\n",
       "      <td>Top 1%</td>\n",
       "      <td>07945718ead5cf68712345e80b344944</td>\n",
       "      <td>4.808341</td>\n",
       "    </tr>\n",
       "    <tr>\n",
       "      <td>902</td>\n",
       "      <td>Opp: St.Antony's Shrine, Federal Bank ATM Buil...</td>\n",
       "      <td>Fort Kochi</td>\n",
       "      <td>Kochi</td>\n",
       "      <td>NaN</td>\n",
       "      <td>INDIA</td>\n",
       "      <td>2016-08-16</td>\n",
       "      <td>Saj Homestay, Kochi is a thoughtfully designed...</td>\n",
       "      <td>Basics:Internet|Air Conditioning|Doorman|House...</td>\n",
       "      <td>NaN</td>\n",
       "      <td>12</td>\n",
       "      <td>...</td>\n",
       "      <td>Standard AC</td>\n",
       "      <td>NaN</td>\n",
       "      <td>http://www.cleartrip.com</td>\n",
       "      <td>Kerala</td>\n",
       "      <td>1274.0</td>\n",
       "      <td>5.0</td>\n",
       "      <td>Location::4.5|Rooms::4.5|Service::5.0|Value::4...</td>\n",
       "      <td>Top 1%</td>\n",
       "      <td>771821b0ea88d49b8b3974ac99101cd5</td>\n",
       "      <td>4.796503</td>\n",
       "    </tr>\n",
       "    <tr>\n",
       "      <td>440</td>\n",
       "      <td>1/328, Tower Road, Fort Cochin</td>\n",
       "      <td>Fort Kochi</td>\n",
       "      <td>Kochi</td>\n",
       "      <td>NaN</td>\n",
       "      <td>INDIA</td>\n",
       "      <td>2016-08-16</td>\n",
       "      <td>Hotel Old Harbour, Kochi, is a perfect blend o...</td>\n",
       "      <td>Basics:Internet|Doorman|Housekeeping|Doctor on...</td>\n",
       "      <td>3 Star hotel</td>\n",
       "      <td>11</td>\n",
       "      <td>...</td>\n",
       "      <td>Superior Room</td>\n",
       "      <td>714308|1332834|720275|725723|331892</td>\n",
       "      <td>http://www.cleartrip.com</td>\n",
       "      <td>Kerala</td>\n",
       "      <td>1225.0</td>\n",
       "      <td>5.0</td>\n",
       "      <td>Location::5.0|Rooms::5.0|Service::5.0|Value::4...</td>\n",
       "      <td>Top 1%</td>\n",
       "      <td>b9cc888d284471ad06b8c357fea1b6e1</td>\n",
       "      <td>4.789733</td>\n",
       "    </tr>\n",
       "    <tr>\n",
       "      <td>4600</td>\n",
       "      <td>Goner Road</td>\n",
       "      <td>Jaipur Suburbs</td>\n",
       "      <td>Jaipur</td>\n",
       "      <td>NaN</td>\n",
       "      <td>INDIA</td>\n",
       "      <td>2016-09-01</td>\n",
       "      <td>The Oberoi Rajvilas boasts of comfortable room...</td>\n",
       "      <td>Basic Room Amenities:Air Conditioning|Wake-Up ...</td>\n",
       "      <td>5 Star hotel</td>\n",
       "      <td>20</td>\n",
       "      <td>...</td>\n",
       "      <td>Luxury Tent</td>\n",
       "      <td>159767|1324676|375354|332915|40587</td>\n",
       "      <td>https://www.cleartrip.com</td>\n",
       "      <td>Rajasthan</td>\n",
       "      <td>1109.0</td>\n",
       "      <td>5.0</td>\n",
       "      <td>Location::4.5|Rooms::5.0|Service::5.0|Value::4...</td>\n",
       "      <td>Top 1%</td>\n",
       "      <td>12771a6e9e48bd464d3f1a43dd585cdb</td>\n",
       "      <td>4.771758</td>\n",
       "    </tr>\n",
       "    <tr>\n",
       "      <td>4762</td>\n",
       "      <td>On Fort, Kund Para, Jaisalmer</td>\n",
       "      <td>Inside Jaisalmer Fort</td>\n",
       "      <td>Jaisalmer</td>\n",
       "      <td>NaN</td>\n",
       "      <td>INDIA</td>\n",
       "      <td>2016-09-01</td>\n",
       "      <td>Hotel Victoria, Jaisalmer, is a resplendent pa...</td>\n",
       "      <td>Basics:Internet|Adjoining Rooms|Doorman|Housek...</td>\n",
       "      <td>3 Star hotel</td>\n",
       "      <td>42</td>\n",
       "      <td>...</td>\n",
       "      <td>Standard Room</td>\n",
       "      <td>1324136|714826|378862|709231|315577</td>\n",
       "      <td>https://www.cleartrip.com</td>\n",
       "      <td>Rajasthan</td>\n",
       "      <td>633.0</td>\n",
       "      <td>5.0</td>\n",
       "      <td>Location::5.0|Rooms::4.5|Service::5.0|Value::4...</td>\n",
       "      <td>Top 3%</td>\n",
       "      <td>5c66011895827cf3102b944cac69b092</td>\n",
       "      <td>4.648425</td>\n",
       "    </tr>\n",
       "    <tr>\n",
       "      <td>3856</td>\n",
       "      <td>On the Seaward side of the Baga bridge, Baga</td>\n",
       "      <td>Baga Beach-North Goa</td>\n",
       "      <td>Goa</td>\n",
       "      <td>NaN</td>\n",
       "      <td>INDIA</td>\n",
       "      <td>2016-08-16</td>\n",
       "      <td>Overlooking the salient shores of Baga River!A...</td>\n",
       "      <td>Food &amp;amp; Beverage:Bar|Restaurant|Coffee Shop...</td>\n",
       "      <td>5 Star hotel</td>\n",
       "      <td>20</td>\n",
       "      <td>...</td>\n",
       "      <td>Courtyard Room</td>\n",
       "      <td>159612|41652|40441|388991|1360608</td>\n",
       "      <td>http://www.cleartrip.com</td>\n",
       "      <td>Goa</td>\n",
       "      <td>588.0</td>\n",
       "      <td>5.0</td>\n",
       "      <td>Location::4.5|Rooms::5.0|Service::5.0|Value::4...</td>\n",
       "      <td>Top 1%</td>\n",
       "      <td>39a5e3291470e491b86aa4535231383e</td>\n",
       "      <td>4.629499</td>\n",
       "    </tr>\n",
       "    <tr>\n",
       "      <td>2374</td>\n",
       "      <td>Thotadhahalli Estate, Kaimara (P)</td>\n",
       "      <td>Keremakki Estate</td>\n",
       "      <td>Chikmaglur</td>\n",
       "      <td>NaN</td>\n",
       "      <td>INDIA</td>\n",
       "      <td>2016-08-16</td>\n",
       "      <td>Thotadhahalli Homestay, Chikmagalur nestled in...</td>\n",
       "      <td>Food &amp;amp; Beverage:Restaurant|Personal Servic...</td>\n",
       "      <td>NaN</td>\n",
       "      <td>8</td>\n",
       "      <td>...</td>\n",
       "      <td>Double Bed Rooms with Attached Bath</td>\n",
       "      <td>NaN</td>\n",
       "      <td>http://www.cleartrip.com</td>\n",
       "      <td>Karnataka</td>\n",
       "      <td>517.0</td>\n",
       "      <td>5.0</td>\n",
       "      <td>Location::5.0|Rooms::5.0|Service::5.0|Value::4...</td>\n",
       "      <td>Top 1%</td>\n",
       "      <td>5fe3f6e22cd61e32dc17e6816aba4e25</td>\n",
       "      <td>4.595108</td>\n",
       "    </tr>\n",
       "    <tr>\n",
       "      <td>4231</td>\n",
       "      <td>Opp. Golden Petrol Pump, Peepliyon ki dhaani, ...</td>\n",
       "      <td>Amer Fort</td>\n",
       "      <td>Jaipur</td>\n",
       "      <td>NaN</td>\n",
       "      <td>INDIA</td>\n",
       "      <td>2016-09-01</td>\n",
       "      <td>Looking for economic and quality stays? Well O...</td>\n",
       "      <td>Basics:Internet|Air Conditioning|Non-Smoking R...</td>\n",
       "      <td>3 Star hotel</td>\n",
       "      <td>12</td>\n",
       "      <td>...</td>\n",
       "      <td>Standard Room AC</td>\n",
       "      <td>1328858|1327648|1343330|1328856|1327766</td>\n",
       "      <td>https://www.cleartrip.com</td>\n",
       "      <td>Rajasthan</td>\n",
       "      <td>10259.0</td>\n",
       "      <td>4.5</td>\n",
       "      <td>Location::0.0|Rooms::0.0|Service::0.0|Value::0...</td>\n",
       "      <td>Top 1%</td>\n",
       "      <td>520e02c2bfb483b3110df7f08109a126</td>\n",
       "      <td>4.482321</td>\n",
       "    </tr>\n",
       "    <tr>\n",
       "      <td>4934</td>\n",
       "      <td>Palace Road Rajasthan</td>\n",
       "      <td>Bani Park</td>\n",
       "      <td>Jaipur</td>\n",
       "      <td>5.0</td>\n",
       "      <td>INDIA</td>\n",
       "      <td>2016-09-01</td>\n",
       "      <td>The needs of guests are catered to with briskn...</td>\n",
       "      <td>Food &amp;amp; Beverage:Bar|Restaurant|Coffee Shop...</td>\n",
       "      <td>5 Star hotel</td>\n",
       "      <td>27</td>\n",
       "      <td>...</td>\n",
       "      <td>Executive Club Special</td>\n",
       "      <td>159767|1324676|778640|375354|332915</td>\n",
       "      <td>https://www.cleartrip.com</td>\n",
       "      <td>Rajasthan</td>\n",
       "      <td>2661.0</td>\n",
       "      <td>4.5</td>\n",
       "      <td>Location::4.5|Rooms::4.5|Service::4.5|Value::4...</td>\n",
       "      <td>Top 3%</td>\n",
       "      <td>49d4c20694c6414f3ced39830e595386</td>\n",
       "      <td>4.436144</td>\n",
       "    </tr>\n",
       "    <tr>\n",
       "      <td>3467</td>\n",
       "      <td>Arrossim Beach</td>\n",
       "      <td>Majorda Beach-South Goa</td>\n",
       "      <td>Goa</td>\n",
       "      <td>NaN</td>\n",
       "      <td>INDIA</td>\n",
       "      <td>2016-08-16</td>\n",
       "      <td>Park Hyatt Goa Resort and Spa, Goa is an amiab...</td>\n",
       "      <td>Basic Room Amenities:Air Conditioning|Food &amp;am...</td>\n",
       "      <td>5 Star hotel</td>\n",
       "      <td>17</td>\n",
       "      <td>...</td>\n",
       "      <td>Sea View King / Twin</td>\n",
       "      <td>159612|41652|40441|388991|1360608</td>\n",
       "      <td>http://www.cleartrip.com</td>\n",
       "      <td>Goa</td>\n",
       "      <td>2547.0</td>\n",
       "      <td>4.5</td>\n",
       "      <td>Location::4.5|Rooms::4.5|Service::4.5|Value::4...</td>\n",
       "      <td>Top 18%</td>\n",
       "      <td>0f168a1fe10b5b013a1f88be62578a82</td>\n",
       "      <td>4.433539</td>\n",
       "    </tr>\n",
       "  </tbody>\n",
       "</table>\n",
       "<p>10 rows × 34 columns</p>\n",
       "</div>"
      ],
      "text/plain": [
       "                                                address  \\\n",
       "4911  Rambagh Circle, Opp Central Park, Bhawani Sing...   \n",
       "902   Opp: St.Antony's Shrine, Federal Bank ATM Buil...   \n",
       "440                      1/328, Tower Road, Fort Cochin   \n",
       "4600                                         Goner Road   \n",
       "4762                      On Fort, Kund Para, Jaisalmer   \n",
       "3856       On the Seaward side of the Baga bridge, Baga   \n",
       "2374                  Thotadhahalli Estate, Kaimara (P)   \n",
       "4231  Opp. Golden Petrol Pump, Peepliyon ki dhaani, ...   \n",
       "4934                              Palace Road Rajasthan   \n",
       "3467                                     Arrossim Beach   \n",
       "\n",
       "                            area        city  cleartrip_seller_rating country  \\\n",
       "4911  SMS Stadium-Rambagh Circle      Jaipur                      NaN   INDIA   \n",
       "902                   Fort Kochi       Kochi                      NaN   INDIA   \n",
       "440                   Fort Kochi       Kochi                      NaN   INDIA   \n",
       "4600              Jaipur Suburbs      Jaipur                      NaN   INDIA   \n",
       "4762       Inside Jaisalmer Fort   Jaisalmer                      NaN   INDIA   \n",
       "3856        Baga Beach-North Goa         Goa                      NaN   INDIA   \n",
       "2374            Keremakki Estate  Chikmaglur                      NaN   INDIA   \n",
       "4231                   Amer Fort      Jaipur                      NaN   INDIA   \n",
       "4934                   Bani Park      Jaipur                      5.0   INDIA   \n",
       "3467     Majorda Beach-South Goa         Goa                      NaN   INDIA   \n",
       "\n",
       "      crawl_date                                  hotel_description  \\\n",
       "4911  2016-09-01  Armagh Palace Hotel, Jaipur lures business tra...   \n",
       "902   2016-08-16  Saj Homestay, Kochi is a thoughtfully designed...   \n",
       "440   2016-08-16  Hotel Old Harbour, Kochi, is a perfect blend o...   \n",
       "4600  2016-09-01  The Oberoi Rajvilas boasts of comfortable room...   \n",
       "4762  2016-09-01  Hotel Victoria, Jaisalmer, is a resplendent pa...   \n",
       "3856  2016-08-16  Overlooking the salient shores of Baga River!A...   \n",
       "2374  2016-08-16  Thotadhahalli Homestay, Chikmagalur nestled in...   \n",
       "4231  2016-09-01  Looking for economic and quality stays? Well O...   \n",
       "4934  2016-09-01  The needs of guests are catered to with briskn...   \n",
       "3467  2016-08-16  Park Hyatt Goa Resort and Spa, Goa is an amiab...   \n",
       "\n",
       "                                       hotel_facilities hotel_star_rating  \\\n",
       "4911  Basic Room Amenities:Air Conditioning|Wake-Up ...      5 Star hotel   \n",
       "902   Basics:Internet|Air Conditioning|Doorman|House...               NaN   \n",
       "440   Basics:Internet|Doorman|Housekeeping|Doctor on...      3 Star hotel   \n",
       "4600  Basic Room Amenities:Air Conditioning|Wake-Up ...      5 Star hotel   \n",
       "4762  Basics:Internet|Adjoining Rooms|Doorman|Housek...      3 Star hotel   \n",
       "3856  Food &amp; Beverage:Bar|Restaurant|Coffee Shop...      5 Star hotel   \n",
       "2374  Food &amp; Beverage:Restaurant|Personal Servic...               NaN   \n",
       "4231  Basics:Internet|Air Conditioning|Non-Smoking R...      3 Star hotel   \n",
       "4934  Food &amp; Beverage:Bar|Restaurant|Coffee Shop...      5 Star hotel   \n",
       "3467  Basic Room Amenities:Air Conditioning|Food &am...      5 Star hotel   \n",
       "\n",
       "      image_count  ...                            room_type  \\\n",
       "4911           27  ...                         Palace Rooms   \n",
       "902            12  ...                          Standard AC   \n",
       "440            11  ...                        Superior Room   \n",
       "4600           20  ...                          Luxury Tent   \n",
       "4762           42  ...                        Standard Room   \n",
       "3856           20  ...                       Courtyard Room   \n",
       "2374            8  ...  Double Bed Rooms with Attached Bath   \n",
       "4231           12  ...                     Standard Room AC   \n",
       "4934           27  ...               Executive Club Special   \n",
       "3467           17  ...                 Sea View King / Twin   \n",
       "\n",
       "                                similar_hotel                   sitename  \\\n",
       "4911       159767|1324676|375354|332915|40611  https://www.cleartrip.com   \n",
       "902                                       NaN   http://www.cleartrip.com   \n",
       "440       714308|1332834|720275|725723|331892   http://www.cleartrip.com   \n",
       "4600       159767|1324676|375354|332915|40587  https://www.cleartrip.com   \n",
       "4762      1324136|714826|378862|709231|315577  https://www.cleartrip.com   \n",
       "3856        159612|41652|40441|388991|1360608   http://www.cleartrip.com   \n",
       "2374                                      NaN   http://www.cleartrip.com   \n",
       "4231  1328858|1327648|1343330|1328856|1327766  https://www.cleartrip.com   \n",
       "4934      159767|1324676|778640|375354|332915  https://www.cleartrip.com   \n",
       "3467        159612|41652|40441|388991|1360608   http://www.cleartrip.com   \n",
       "\n",
       "          state  tad_review_count tad_review_rating  \\\n",
       "4911  Rajasthan            1368.0               5.0   \n",
       "902      Kerala            1274.0               5.0   \n",
       "440      Kerala            1225.0               5.0   \n",
       "4600  Rajasthan            1109.0               5.0   \n",
       "4762  Rajasthan             633.0               5.0   \n",
       "3856        Goa             588.0               5.0   \n",
       "2374  Karnataka             517.0               5.0   \n",
       "4231  Rajasthan           10259.0               4.5   \n",
       "4934  Rajasthan            2661.0               4.5   \n",
       "3467        Goa            2547.0               4.5   \n",
       "\n",
       "                                 tad_stay_review_rating  \\\n",
       "4911  Location::4.5|Rooms::5.0|Service::5.0|Value::4...   \n",
       "902   Location::4.5|Rooms::4.5|Service::5.0|Value::4...   \n",
       "440   Location::5.0|Rooms::5.0|Service::5.0|Value::4...   \n",
       "4600  Location::4.5|Rooms::5.0|Service::5.0|Value::4...   \n",
       "4762  Location::5.0|Rooms::4.5|Service::5.0|Value::4...   \n",
       "3856  Location::4.5|Rooms::5.0|Service::5.0|Value::4...   \n",
       "2374  Location::5.0|Rooms::5.0|Service::5.0|Value::4...   \n",
       "4231  Location::0.0|Rooms::0.0|Service::0.0|Value::0...   \n",
       "4934  Location::4.5|Rooms::4.5|Service::4.5|Value::4...   \n",
       "3467  Location::4.5|Rooms::4.5|Service::4.5|Value::4...   \n",
       "\n",
       "     tripadvisor_seller_rating                           uniq_id     score  \n",
       "4911                    Top 1%  07945718ead5cf68712345e80b344944  4.808341  \n",
       "902                     Top 1%  771821b0ea88d49b8b3974ac99101cd5  4.796503  \n",
       "440                     Top 1%  b9cc888d284471ad06b8c357fea1b6e1  4.789733  \n",
       "4600                    Top 1%  12771a6e9e48bd464d3f1a43dd585cdb  4.771758  \n",
       "4762                    Top 3%  5c66011895827cf3102b944cac69b092  4.648425  \n",
       "3856                    Top 1%  39a5e3291470e491b86aa4535231383e  4.629499  \n",
       "2374                    Top 1%  5fe3f6e22cd61e32dc17e6816aba4e25  4.595108  \n",
       "4231                    Top 1%  520e02c2bfb483b3110df7f08109a126  4.482321  \n",
       "4934                    Top 3%  49d4c20694c6414f3ced39830e595386  4.436144  \n",
       "3467                   Top 18%  0f168a1fe10b5b013a1f88be62578a82  4.433539  \n",
       "\n",
       "[10 rows x 34 columns]"
      ]
     },
     "execution_count": 9,
     "metadata": {},
     "output_type": "execute_result"
    }
   ],
   "source": [
    "q_hotels = q_hotels.sort_values('score', ascending=False)\n",
    "q_hotels.head(10)"
   ]
  },
  {
   "cell_type": "code",
   "execution_count": 10,
   "metadata": {},
   "outputs": [
    {
     "data": {
      "text/plain": [
       "Index(['address', 'area', 'city', 'cleartrip_seller_rating', 'country',\n",
       "       'crawl_date', 'hotel_description', 'hotel_facilities',\n",
       "       'hotel_star_rating', 'image_count', 'image_urls', 'landmark',\n",
       "       'latitude', 'locality', 'longitude', 'pageurl', 'property_id',\n",
       "       'property_name', 'property_type', 'province', 'qts', 'room_area',\n",
       "       'room_count', 'room_facilities', 'room_type', 'similar_hotel',\n",
       "       'sitename', 'state', 'tad_review_count', 'tad_review_rating',\n",
       "       'tad_stay_review_rating', 'tripadvisor_seller_rating', 'uniq_id'],\n",
       "      dtype='object')"
      ]
     },
     "execution_count": 10,
     "metadata": {},
     "output_type": "execute_result"
    }
   ],
   "source": [
    "trip.columns"
   ]
  },
  {
   "cell_type": "code",
   "execution_count": 11,
   "metadata": {},
   "outputs": [
    {
     "data": {
      "text/plain": [
       "0    Hotel Jiwan Jyoti, Kalimpong is an ultimate st...\n",
       "1    Retire to the beautiful rooms of OYO Premium K...\n",
       "2    OYO Rooms Bera Road in Jaisalmer has a royal c...\n",
       "3    Situated in quite part of the city yet close t...\n",
       "4    Hotel Gorakh Haveli, Jaisalmer, with hospitali...\n",
       "Name: hotel_description, dtype: object"
      ]
     },
     "execution_count": 11,
     "metadata": {},
     "output_type": "execute_result"
    }
   ],
   "source": [
    "trip['hotel_description'].head()"
   ]
  },
  {
   "cell_type": "code",
   "execution_count": 12,
   "metadata": {},
   "outputs": [
    {
     "data": {
      "text/plain": [
       "(5000, 20035)"
      ]
     },
     "execution_count": 12,
     "metadata": {},
     "output_type": "execute_result"
    }
   ],
   "source": [
    "tfidf = TfidfVectorizer(stop_words='english')\n",
    "\n",
    "#Replace NaN with an empty string\n",
    "trip['hotel_description'] = trip['hotel_description'].fillna('')\n",
    "\n",
    "#Construct the required TF-IDF matrix by fitting and transforming the data\n",
    "tfidf_matrix = tfidf.fit_transform(trip['hotel_description'])\n",
    "\n",
    "#Output the shape of tfidf_matrix\n",
    "tfidf_matrix.shape\n"
   ]
  },
  {
   "cell_type": "code",
   "execution_count": 13,
   "metadata": {},
   "outputs": [],
   "source": [
    "# Compute the cosine similarity matrix\n",
    "cosine_sim = linear_kernel(tfidf_matrix, tfidf_matrix)"
   ]
  },
  {
   "cell_type": "code",
   "execution_count": 14,
   "metadata": {},
   "outputs": [],
   "source": [
    "#Construct a reverse map of indices and movie titles\n",
    "indices = pd.Series(trip.index, index=trip['property_name']).drop_duplicates()"
   ]
  },
  {
   "cell_type": "code",
   "execution_count": 15,
   "metadata": {},
   "outputs": [],
   "source": [
    "def get_recommendations(title, cosine_sim=cosine_sim):\n",
    "    # Get the index of the movie that matches the title\n",
    "    idx = indices[title]\n",
    "\n",
    "    # Get the pairwsie similarity scores of all movies with that movie\n",
    "    sim_scores = list(enumerate(cosine_sim[idx]))\n",
    "\n",
    "    # Sort the movies based on the similarity scores\n",
    "    sim_scores = sorted(sim_scores, key=lambda x: x[1], reverse=True)\n",
    "\n",
    "    # Get the scores of the 10 most similar movies\n",
    "    sim_scores = sim_scores[1:11]\n",
    "\n",
    "    # Get the movie indices\n",
    "    hotel_indices = [i[0] for i in sim_scores]\n",
    "\n",
    "    # Return the top 10 most similar movies\n",
    "    return trip['property_name'].iloc[hotel_indices]"
   ]
  },
  {
   "cell_type": "code",
   "execution_count": 16,
   "metadata": {},
   "outputs": [
    {
     "data": {
      "text/plain": [
       "0     Kalimpong\n",
       "1    Jamshedpur\n",
       "2     Jaisalmer\n",
       "3      Kakinada\n",
       "4     Jaisalmer\n",
       "Name: province, dtype: object"
      ]
     },
     "execution_count": 16,
     "metadata": {},
     "output_type": "execute_result"
    }
   ],
   "source": [
    "trip['province'].head()"
   ]
  },
  {
   "cell_type": "code",
   "execution_count": 17,
   "metadata": {},
   "outputs": [
    {
     "data": {
      "text/plain": [
       "2627                    Hotel Valentino\n",
       "2924                       Hotel Zodiac\n",
       "2328    Khush Alaya - A Sterling Resort\n",
       "2261                      Hotel Pradhan\n",
       "2836                         Hotel Yuma\n",
       "2300                         R J Resort\n",
       "2698                       Hotel Meghma\n",
       "2874              Hotel Pleasure Palace\n",
       "2075                 Hotel Royal Palace\n",
       "2921                      Viramma Villa\n",
       "Name: property_name, dtype: object"
      ]
     },
     "execution_count": 17,
     "metadata": {},
     "output_type": "execute_result"
    }
   ],
   "source": [
    "get_recommendations('Hotel Jivan Jyoti')"
   ]
  },
  {
   "cell_type": "code",
   "execution_count": 18,
   "metadata": {},
   "outputs": [
    {
     "data": {
      "text/plain": [
       "4085                          Gorbandh Palace\n",
       "3752                 OYO Rooms Deorali Bazaar\n",
       "4418    OYO Rooms Near Gadisar Lake Jaisalmer\n",
       "4432                       Hotel Gajju Palace\n",
       "4470     OYO Rooms Near Golden Fort Jaisalmer\n",
       "4256                       Hotel Royal Haveli\n",
       "10              Vista Rooms at Jaisalmer Fort\n",
       "4282                       Hotel Shahi Palace\n",
       "4212                          Hotel Akashdeep\n",
       "3107                            Hotel Berries\n",
       "Name: property_name, dtype: object"
      ]
     },
     "execution_count": 18,
     "metadata": {},
     "output_type": "execute_result"
    }
   ],
   "source": [
    "get_recommendations('OYO Rooms Bera Road')"
   ]
  },
  {
   "cell_type": "code",
   "execution_count": 19,
   "metadata": {},
   "outputs": [
    {
     "data": {
      "text/plain": [
       "Index(['address', 'area', 'city', 'cleartrip_seller_rating', 'country',\n",
       "       'crawl_date', 'hotel_description', 'hotel_facilities',\n",
       "       'hotel_star_rating', 'image_count', 'image_urls', 'landmark',\n",
       "       'latitude', 'locality', 'longitude', 'pageurl', 'property_id',\n",
       "       'property_name', 'property_type', 'province', 'qts', 'room_area',\n",
       "       'room_count', 'room_facilities', 'room_type', 'similar_hotel',\n",
       "       'sitename', 'state', 'tad_review_count', 'tad_review_rating',\n",
       "       'tad_stay_review_rating', 'tripadvisor_seller_rating', 'uniq_id'],\n",
       "      dtype='object')"
      ]
     },
     "execution_count": 19,
     "metadata": {},
     "output_type": "execute_result"
    }
   ],
   "source": [
    "trip.columns"
   ]
  },
  {
   "cell_type": "code",
   "execution_count": 21,
   "metadata": {},
   "outputs": [],
   "source": [
    "import pytz as tz\n",
    "import matplotlib.pyplot as plt\n",
    "\n",
    "from datetime import datetime\n",
    "from sklearn.cluster import KMeans\n",
    "\n",
    "from sklearn.metrics import silhouette_score"
   ]
  },
  {
   "cell_type": "code",
   "execution_count": 26,
   "metadata": {},
   "outputs": [
    {
     "data": {
      "text/plain": [
       "0       2016-08-16\n",
       "1       2016-08-16\n",
       "2       2016-08-16\n",
       "3       2016-08-16\n",
       "4       2016-08-16\n",
       "           ...    \n",
       "4995    2016-09-01\n",
       "4996    2016-09-01\n",
       "4997    2016-09-01\n",
       "4998    2016-09-01\n",
       "4999    2016-09-01\n",
       "Name: crawl_date, Length: 5000, dtype: object"
      ]
     },
     "execution_count": 26,
     "metadata": {},
     "output_type": "execute_result"
    }
   ],
   "source": [
    "trip['crawl_date']"
   ]
  },
  {
   "cell_type": "code",
   "execution_count": 24,
   "metadata": {},
   "outputs": [],
   "source": [
    "trip_df = trip[['uniq_id', 'landmark',\n",
    "       'latitude', 'locality', 'longitude', 'property_id', 'crawl_date']]"
   ]
  },
  {
   "cell_type": "code",
   "execution_count": 25,
   "metadata": {},
   "outputs": [],
   "source": [
    "venues = trip[['property_id',\n",
    "       'property_name', 'latitude', 'longitude']]"
   ]
  },
  {
   "cell_type": "code",
   "execution_count": 29,
   "metadata": {},
   "outputs": [],
   "source": [
    "def parse_datetime(s):\n",
    "    tzone = tz.timezone(\"America/New_York\") #parse_datetime\n",
    "    utc = datetime.strptime(s, '%Y-%m-%d')\n",
    "    return tz.utc.localize(utc).astimezone(tzone)"
   ]
  },
  {
   "cell_type": "code",
   "execution_count": 30,
   "metadata": {},
   "outputs": [
    {
     "name": "stderr",
     "output_type": "stream",
     "text": [
      "C:\\Users\\Eswar\\New folder\\lib\\site-packages\\ipykernel_launcher.py:1: SettingWithCopyWarning: \n",
      "A value is trying to be set on a copy of a slice from a DataFrame.\n",
      "Try using .loc[row_indexer,col_indexer] = value instead\n",
      "\n",
      "See the caveats in the documentation: http://pandas.pydata.org/pandas-docs/stable/user_guide/indexing.html#returning-a-view-versus-a-copy\n",
      "  \"\"\"Entry point for launching an IPython kernel.\n"
     ]
    }
   ],
   "source": [
    "trip_df['ts'] = trip_df['crawl_date'].apply(lambda x: parse_datetime(x))\n",
    "trip_df = trip_df.drop('crawl_date',axis=1,errors='ignore')"
   ]
  },
  {
   "cell_type": "code",
   "execution_count": 32,
   "metadata": {},
   "outputs": [],
   "source": [
    "trip_df['date']  = trip_df['ts'].astype(object).apply(lambda x : x.date())\n",
    "trip_df['time']  = trip_df['ts'].astype(object).apply(lambda x : x.time())"
   ]
  },
  {
   "cell_type": "code",
   "execution_count": 33,
   "metadata": {},
   "outputs": [],
   "source": [
    "trip_df['weekday']  = trip_df['date'].astype(object).apply(lambda x : x.weekday())\n",
    "trip_df['day']   = trip_df['date'].astype(object).apply(lambda x : x.day)\n",
    "trip_df['hour']   = trip_df['time'].astype(object).apply(lambda x : x.hour)"
   ]
  },
  {
   "cell_type": "code",
   "execution_count": 43,
   "metadata": {},
   "outputs": [
    {
     "data": {
      "text/plain": [
       "array([datetime.date(2016, 8, 15), datetime.date(2016, 8, 31)],\n",
       "      dtype=object)"
      ]
     },
     "execution_count": 43,
     "metadata": {},
     "output_type": "execute_result"
    }
   ],
   "source": [
    "trip_df['date'].unique()"
   ]
  },
  {
   "cell_type": "code",
   "execution_count": null,
   "metadata": {},
   "outputs": [],
   "source": []
  },
  {
   "cell_type": "code",
   "execution_count": null,
   "metadata": {},
   "outputs": [],
   "source": []
  }
 ],
 "metadata": {
  "kernelspec": {
   "display_name": "Python 3",
   "language": "python",
   "name": "python3"
  },
  "language_info": {
   "codemirror_mode": {
    "name": "ipython",
    "version": 3
   },
   "file_extension": ".py",
   "mimetype": "text/x-python",
   "name": "python",
   "nbconvert_exporter": "python",
   "pygments_lexer": "ipython3",
   "version": "3.7.4"
  }
 },
 "nbformat": 4,
 "nbformat_minor": 2
}
